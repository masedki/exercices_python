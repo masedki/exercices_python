{
 "cells": [
  {
   "cell_type": "markdown",
   "id": "28afe00b",
   "metadata": {
    "solution": "shown",
    "solution2": "hidden",
    "solution2_first": true,
    "solution_first": true
   },
   "source": [
    "#### Exercice  1 : (niv.1)\n",
    "\n",
    "Écrire un programme qui trouvera tous ces nombres qui sont divisibles par $7$ mais qui ne sont pas un multiple de $5$, entre $2000$ et $3200$ (les deux inclus). Les nombres obtenus doivent être affichés dans une séquence séparée par des virgules sur une seule ligne."
   ]
  },
  {
   "cell_type": "code",
   "execution_count": null,
   "id": "3579d548",
   "metadata": {
    "ExecuteTime": {
     "end_time": "2021-10-14T08:57:51.155558Z",
     "start_time": "2021-10-14T08:57:51.150992Z"
    },
    "code_folding": [],
    "run_control": {
     "marked": false
    },
    "solution": "shown",
    "solution2": "hidden"
   },
   "outputs": [],
   "source": [
    "l=[]\n",
    "for i in range(2000, 3201):\n",
    "    if (i%7==0) and (i%5!=0):\n",
    "        l.append(str(i))\n",
    "\n",
    "print(','.join(l))"
   ]
  },
  {
   "cell_type": "markdown",
   "id": "73305d09",
   "metadata": {
    "solution2": "hidden",
    "solution2_first": true
   },
   "source": [
    "#### Exercice 2 : (niv.1)\n",
    "\n",
    "Écrire une fonction *fact(x)* qui calcule $x!$. \n",
    "\n",
    "Tester $8$, résultat : $40320$\n",
    "\n",
    "Indication : utiliser la fonction *input()* de python"
   ]
  },
  {
   "cell_type": "code",
   "execution_count": null,
   "id": "3d80bfba",
   "metadata": {
    "ExecuteTime": {
     "end_time": "2021-10-14T09:57:00.562795Z",
     "start_time": "2021-10-14T09:56:57.570051Z"
    },
    "solution2": "hidden"
   },
   "outputs": [],
   "source": [
    "def fact(x):\n",
    "    if x == 0:\n",
    "        return 1\n",
    "    return x * fact(x - 1)\n",
    "\n",
    "x=int(input())\n",
    "print(fact(x))"
   ]
  },
  {
   "cell_type": "markdown",
   "id": "3adc29c7",
   "metadata": {
    "solution2": "hidden",
    "solution2_first": true
   },
   "source": [
    "#### Exercice 3 : (niv.1)\n",
    "\n",
    "En partant d'un nombre entier $n$, écrire un programme pour générer le dictionnaire qui contient les éléments $(i: i^2)$ pour tous les entier $i$ allant de $1$ à $n$ (les deux inclus). Afficher le dictionnaire.\n",
    "\n",
    "Tester $8$, résultat:\n",
    "{1: 1, 2: 4, 3: 9, 4: 16, 5: 25, 6: 36, 7: 49, 8: 64}"
   ]
  },
  {
   "cell_type": "code",
   "execution_count": null,
   "id": "0bb8fdd6",
   "metadata": {
    "ExecuteTime": {
     "end_time": "2021-10-14T10:01:17.575507Z",
     "start_time": "2021-10-14T10:01:14.932734Z"
    },
    "solution2": "hidden"
   },
   "outputs": [],
   "source": [
    "n=int(input())\n",
    "d=dict()\n",
    "for i in range(1,n+1):\n",
    "    d[i]=i*i\n",
    "\n",
    "print(d)"
   ]
  },
  {
   "cell_type": "markdown",
   "id": "0e8629ef",
   "metadata": {
    "solution2": "hidden",
    "solution2_first": true
   },
   "source": [
    "#### Exercice 4 : (niv.1)\n",
    "\n",
    "Écrire un programme qui accepte en entrée une séquence de nombre séparés par une virgule et qui génère une liste et un tuple qui contiennent la séquence. \n",
    "\n",
    "Tester la séquence 34,67,55,33,12,98. \n",
    "La sortie sera :\n",
    "\n",
    "['34', '67', '55', '33', '12', '98']\n",
    "\n",
    "('34', '67', '55', '33', '12', '98')\n",
    "\n"
   ]
  },
  {
   "cell_type": "code",
   "execution_count": null,
   "id": "d96e43ae",
   "metadata": {
    "ExecuteTime": {
     "end_time": "2021-10-14T10:02:50.657374Z",
     "start_time": "2021-10-14T10:02:39.422695Z"
    },
    "solution2": "hidden"
   },
   "outputs": [],
   "source": [
    "values=input()\n",
    "l=values.split(\",\")\n",
    "t=tuple(l)\n",
    "print(l)\n",
    "print(t)"
   ]
  },
  {
   "cell_type": "markdown",
   "id": "ff47c13f",
   "metadata": {
    "solution2": "hidden",
    "solution2_first": true
   },
   "source": [
    "#### Exercice 5. (niv.1)\n",
    "Définir une classe qui contient comme élément une chaine de caractère et au moins deux méthodes :\n",
    "getString: pour entrer la chaine de caractère à partir de la console\n",
    "printString: pour afficher la chaine de caractère en majuscule."
   ]
  },
  {
   "cell_type": "code",
   "execution_count": null,
   "id": "1d3165fa",
   "metadata": {
    "ExecuteTime": {
     "end_time": "2021-10-14T10:05:18.323661Z",
     "start_time": "2021-10-14T10:05:14.893943Z"
    },
    "solution2": "hidden"
   },
   "outputs": [],
   "source": [
    "class InputOutString(object):\n",
    "    def __init__(self):\n",
    "        self.s = \"\"\n",
    "\n",
    "    def getString(self):\n",
    "        self.s = input()\n",
    "\n",
    "    def printString(self):\n",
    "        print(self.s.upper())\n",
    "\n",
    "strObj = InputOutString()\n",
    "strObj.getString()\n",
    "strObj.printString()"
   ]
  },
  {
   "cell_type": "markdown",
   "id": "17c561c8",
   "metadata": {
    "solution2": "hidden",
    "solution2_first": true
   },
   "source": [
    "#### Exercice 6. (niv.2)\n",
    "Écrire un programme qui calcule et affiche la valeur obtenue via la formule suivante:\n",
    "$Q = \\sqrt{\\[\\frac{2 C D}{H}\\]}$\n",
    "\n",
    "Les valeurs des constantes sont $C=50$ et $H=30$ :\n",
    "\n",
    "$D$ est la variable dont les valeurs doivent être entrées dans votre programme dans une séquence séparée par des virgules.\n",
    "\n",
    "**Exemple :** \n",
    "\n",
    "Tester la séquence : $100,150,180$.  La sortie du programme devrait être : $18,22,24$."
   ]
  },
  {
   "cell_type": "code",
   "execution_count": null,
   "id": "bbbc3251",
   "metadata": {
    "ExecuteTime": {
     "end_time": "2021-10-14T12:25:55.816447Z",
     "start_time": "2021-10-14T12:25:48.791835Z"
    },
    "solution2": "hidden"
   },
   "outputs": [],
   "source": [
    "import math\n",
    "c=50\n",
    "h=30\n",
    "value = []\n",
    "items=[x for x in input().split(',')]\n",
    "for d in items:\n",
    "    value.append(str(int(round(math.sqrt(2*c*float(d)/h)))))\n",
    "\n",
    "print(','.join(value))"
   ]
  },
  {
   "cell_type": "markdown",
   "id": "42669a9e",
   "metadata": {
    "solution2": "hidden",
    "solution2_first": true
   },
   "source": [
    "#### Exercice 7. (niv.2)\n",
    "\n",
    "Écrire un programme qui prend en entrée deux chiffres, $X$ et $Y$, et génère une matrice (tableau à deux dimensions). La valeur de l'élément dans la $i$-ème ligne et la $j$-ème colonne du tableau doit être $i\\times j$.\n",
    "\n",
    "**Remarque :** $i=0,1, \\ldots, X-1$  et $j=0,1, \\ldots, Y-1$.\n",
    "\n",
    "**Exemple**\n",
    "\n",
    "Supposons que les entrées suivantes soient données au programme :\n",
    "$3,5$\n",
    "Alors, la sortie du programme devrait être :\n",
    "\n",
    "$[[0, 0, 0, 0, 0], [0, 1, 2, 3, 4], [0, 2, 4, 6, 8]]$"
   ]
  },
  {
   "cell_type": "code",
   "execution_count": null,
   "id": "f8de7703",
   "metadata": {
    "ExecuteTime": {
     "end_time": "2021-10-14T12:43:47.052783Z",
     "start_time": "2021-10-14T12:43:42.939155Z"
    },
    "solution2": "hidden"
   },
   "outputs": [],
   "source": [
    "input_str = input()\n",
    "dimensions=[int(x) for x in input_str.split(',')]\n",
    "rowNum=dimensions[0]\n",
    "colNum=dimensions[1]\n",
    "multilist = [[0 for col in range(colNum)] for row in range(rowNum)]\n",
    "\n",
    "for row in range(rowNum):\n",
    "    for col in range(colNum):\n",
    "        multilist[row][col]= row*col\n",
    "\n",
    "print(multilist)"
   ]
  },
  {
   "cell_type": "markdown",
   "id": "ece8521a",
   "metadata": {
    "solution2": "hidden",
    "solution2_first": true
   },
   "source": [
    "#### Exercice 8. (niv.2)\n",
    "Écrire un programme qui prend en entrée une séquence de mots séparés par des virgules et qui affiche les mots dans une séquence séparée par des virgules après les avoir triés par ordre alphabétique.\n",
    "\n",
    "Supposons que l'entrée suivante soit fournie au programme :\n",
    "\n",
    "without,hello,bag,world\n",
    "\n",
    "Alors, la sortie devrait être :\n",
    "\n",
    "bag,hello,without,world"
   ]
  },
  {
   "cell_type": "code",
   "execution_count": null,
   "id": "6a3f5009",
   "metadata": {
    "ExecuteTime": {
     "end_time": "2021-10-14T12:51:13.607072Z",
     "start_time": "2021-10-14T12:50:57.982963Z"
    },
    "solution2": "hidden"
   },
   "outputs": [],
   "source": [
    "items=[x for x in input().split(',')]\n",
    "items.sort()\n",
    "print(','.join(items))"
   ]
  },
  {
   "cell_type": "markdown",
   "id": "220461af",
   "metadata": {
    "solution2": "hidden",
    "solution2_first": true
   },
   "source": [
    "#### Exercice 9. (niv.2)\n",
    "\n",
    "Écrire un programme qui prend une séquence de lignes en entrée et affiche les lignes après avoir mis tous les caractères de la phrase en majuscules.\n",
    "\n",
    "Supposons que l'entrée suivante soit fournie au programme :\n",
    "\n",
    "   - Hello world\n",
    "\n",
    "   - Practice makes perfect\n",
    "\n",
    "Alors, la sortie devrait être :\n",
    "\n",
    "   - HELLO WORLD\n",
    "\n",
    "   - PRACTICE MAKES PERFECT"
   ]
  },
  {
   "cell_type": "code",
   "execution_count": null,
   "id": "004e643f",
   "metadata": {
    "ExecuteTime": {
     "end_time": "2021-10-14T13:04:39.230174Z",
     "start_time": "2021-10-14T13:04:19.691453Z"
    },
    "solution2": "hidden"
   },
   "outputs": [],
   "source": [
    "lines = []\n",
    "while True:\n",
    "    s = input()\n",
    "    if s:\n",
    "        lines.append(s.upper())\n",
    "    else:\n",
    "        break;\n",
    "\n",
    "for sentence in lines:\n",
    "    print(sentence)"
   ]
  },
  {
   "cell_type": "markdown",
   "id": "9ac2103e",
   "metadata": {
    "solution2": "hidden",
    "solution2_first": true
   },
   "source": [
    "#### Exercice 10. (niv.2)\n",
    "\n",
    "Écrire un programme qui prend en entrée une séquence de mots séparés par des espaces blancs et qui imprime les mots après avoir supprimé tous les mots en double et les avoir triés par ordre alphabétique.\n",
    "\n",
    "Tester le programme avec l'entrée suivante :\n",
    "\n",
    "hello world and practice makes perfect and hello world again\n",
    "\n",
    "La sortie sera :\n",
    "\n",
    "again and hello makes perfect practice world"
   ]
  },
  {
   "cell_type": "code",
   "execution_count": null,
   "id": "d83bd29c",
   "metadata": {
    "ExecuteTime": {
     "end_time": "2021-10-14T14:36:38.131849Z",
     "start_time": "2021-10-14T14:36:34.630373Z"
    },
    "solution2": "hidden"
   },
   "outputs": [],
   "source": [
    "s = input()\n",
    "words = [word for word in s.split(\" \")]\n",
    "print (\" \".join(sorted(list(set(words)))))"
   ]
  },
  {
   "cell_type": "markdown",
   "id": "66956197",
   "metadata": {
    "solution2": "hidden",
    "solution2_first": true
   },
   "source": [
    "#### Exercice 11. (niv.2)\n",
    "\n",
    "Écrire un programme qui accepte en entrée une séquence de nombres binaires à $4$ chiffres séparés par des virgules et qui vérifie s'ils sont divisibles par $5$ ou non. Les nombres qui sont divisibles par $5$ doivent être imprimés dans une séquence séparée par des virgules.\n",
    "\n",
    "Exemple :\n",
    "\n",
    "0100,0011,1010,1001\n",
    "\n",
    "Alors la sortie devrait être :\n",
    "\n",
    "1010"
   ]
  },
  {
   "cell_type": "code",
   "execution_count": null,
   "id": "dd1415e0",
   "metadata": {
    "ExecuteTime": {
     "end_time": "2021-10-14T14:47:58.234830Z",
     "start_time": "2021-10-14T14:47:54.430326Z"
    },
    "solution2": "hidden"
   },
   "outputs": [],
   "source": [
    "value = []\n",
    "items=[x for x in input().split(',')]\n",
    "for p in items:\n",
    "    intp = int(p, 2)\n",
    "    if not intp%5:\n",
    "        value.append(p)\n",
    "\n",
    "print(','.join(value))"
   ]
  },
  {
   "cell_type": "markdown",
   "id": "78af4d93",
   "metadata": {
    "solution2": "hidden",
    "solution2_first": true
   },
   "source": [
    "#### Exercice 12. (niv.2)\n",
    "\n",
    "Écrire un programme qui trouve tous les nombres entre 1000 et 3000 (les deux inclus) tels que chaque chiffre du nombre est un nombre pair. Les nombres obtenus doivent être imprimés dans une séquence séparée par des virgules sur une seule ligne.\n"
   ]
  },
  {
   "cell_type": "code",
   "execution_count": null,
   "id": "7354fe2a",
   "metadata": {
    "ExecuteTime": {
     "end_time": "2021-10-14T15:07:32.824756Z",
     "start_time": "2021-10-14T15:07:32.819918Z"
    },
    "solution2": "hidden"
   },
   "outputs": [],
   "source": [
    "values = []\n",
    "for i in range(1000, 3001):\n",
    "    s = str(i)\n",
    "    if (int(s[0])%2==0) and (int(s[1])%2==0) and (int(s[2])%2==0) and (int(s[3])%2==0):\n",
    "        values.append(s)\n",
    "print(\",\".join(values))"
   ]
  },
  {
   "cell_type": "markdown",
   "id": "38f0884a",
   "metadata": {
    "solution2": "hidden",
    "solution2_first": true
   },
   "source": [
    "#### Exercice 13. (niv.2)\n",
    "\n",
    "Écrire un programme qui accepte une phrase et calcule le nombre de lettres et de chiffres.\n",
    "\n",
    "Tester l'entrée suivante :\n",
    "\n",
    "hello world ! 123\n",
    "\n",
    "La sortie attendue :\n",
    "\n",
    "Lettres : 10\n",
    "\n",
    "Chiffres : 3\n",
    "\n",
    "\n",
    "**Indications** : *isdigit()* et *isalpha()* sont des méthodes de la classes *str*"
   ]
  },
  {
   "cell_type": "code",
   "execution_count": null,
   "id": "44740252",
   "metadata": {
    "ExecuteTime": {
     "end_time": "2021-10-14T15:27:08.681557Z",
     "start_time": "2021-10-14T15:26:57.672774Z"
    },
    "solution2": "hidden"
   },
   "outputs": [],
   "source": [
    "s = input()\n",
    "d={\"Chiffres\":0, \"Lettres\":0}\n",
    "for c in s:\n",
    "    print(type(c))\n",
    "    if c.isdigit():\n",
    "        d[\"Chiffres\"]+=1\n",
    "    elif c.isalpha():\n",
    "        d[\"Lettres\"]+=1\n",
    "    else:\n",
    "        pass\n",
    "print(\"Lettres\", \":\" ,d[\"Lettres\"])\n",
    "print(\"Chiffres\", \":\",d[\"Chiffres\"])"
   ]
  },
  {
   "cell_type": "markdown",
   "id": "f07a6fa7",
   "metadata": {
    "solution2": "hidden",
    "solution2_first": true
   },
   "source": [
    "#### Exercice 14. (niv.2)\n",
    "\n",
    "Écrire un programme qui calcule le nombre de lettres majuscules et minuscules d'une phrase.\n",
    "\n",
    "Tester la phrase :\n",
    "\n",
    "Bonjour le monde !\n",
    "\n",
    "**Indications** : *isupper()* et *islower()* sont des méthodes de la classes *str* "
   ]
  },
  {
   "cell_type": "code",
   "execution_count": null,
   "id": "c249b436",
   "metadata": {
    "ExecuteTime": {
     "end_time": "2021-10-14T15:30:38.816634Z",
     "start_time": "2021-10-14T15:30:35.287092Z"
    },
    "solution2": "hidden"
   },
   "outputs": [],
   "source": [
    "s = input()\n",
    "d={\"UPPER CASE\":0, \"LOWER CASE\":0}\n",
    "for c in s:\n",
    "    if c.isupper():\n",
    "        d[\"UPPER CASE\"]+=1\n",
    "    elif c.islower():\n",
    "        d[\"LOWER CASE\"]+=1\n",
    "    else:\n",
    "        pass\n",
    "print(\"UPPER CASE\", \":\",d[\"UPPER CASE\"])\n",
    "print(\"LOWER CASE\", \":\", d[\"LOWER CASE\"])"
   ]
  },
  {
   "cell_type": "markdown",
   "id": "3cda2e08",
   "metadata": {
    "solution2": "hidden",
    "solution2_first": true
   },
   "source": [
    "#### Exercice 15. (niv.2)\n",
    "Écrire un programme qui calcule la valeur de a+aa+aaa+aaaa avec un chiffre donné comme valeur de a.\n",
    "\n",
    "Tester: 9\n",
    "\n",
    "Résultat attendu : 11106"
   ]
  },
  {
   "cell_type": "code",
   "execution_count": null,
   "id": "4d666003",
   "metadata": {
    "ExecuteTime": {
     "end_time": "2021-10-14T15:35:52.632629Z",
     "start_time": "2021-10-14T15:35:50.425894Z"
    },
    "solution2": "hidden"
   },
   "outputs": [],
   "source": [
    "a = input()\n",
    "n1 = int( \"%s\" % a )\n",
    "n2 = int( \"%s%s\" % (a,a) )\n",
    "n3 = int( \"%s%s%s\" % (a,a,a) )\n",
    "n4 = int( \"%s%s%s%s\" % (a,a,a,a) )\n",
    "print(n1+n2+n3+n4)"
   ]
  },
  {
   "cell_type": "markdown",
   "id": "3ce17670",
   "metadata": {
    "solution2": "hidden",
    "solution2_first": true
   },
   "source": [
    "#### Exercice 16. (niv.2)\n",
    "Utiliser une compréhension de liste pour mettre au carré chaque nombre impair d'une liste. La liste est entrée par une séquence de nombres séparés par des virgules.\n",
    "\n",
    "Tester : 1,2,3,4,5,6,7,8,9\n",
    "\n",
    "Résultat attendu : [1, 9, 25, 49, 81]"
   ]
  },
  {
   "cell_type": "code",
   "execution_count": null,
   "id": "2ee2d807",
   "metadata": {
    "ExecuteTime": {
     "end_time": "2021-10-14T16:16:25.139418Z",
     "start_time": "2021-10-14T16:16:22.077255Z"
    },
    "solution2": "hidden"
   },
   "outputs": [],
   "source": [
    "values = input()\n",
    "numbers = [int(x)**2 for x in values.split(\",\") if int(x)%2!=0]\n",
    "print(numbers)"
   ]
  },
  {
   "cell_type": "markdown",
   "id": "4fc0ab03",
   "metadata": {
    "solution2": "hidden",
    "solution2_first": true
   },
   "source": [
    "#### Exercice 17. (niv.2)\n",
    "\n",
    "Écrire un programme qui calcule le montant net d'un compte bancaire sur la base d'un journal de transactions provenant de l'entrée de la console. Le format du journal des transactions est le suivant :\n",
    "\n",
    "  - D 100\n",
    "\n",
    "  - W 200\n",
    "\n",
    "D signifie dépôt et W signifie retrait.\n",
    "\n",
    "Tester:\n",
    "\n",
    "  - D 300\n",
    "\n",
    "  - D 300\n",
    "\n",
    "  - W 200\n",
    "\n",
    "  - D 100\n",
    "\n",
    "Résultat attendu:\n",
    "500"
   ]
  },
  {
   "cell_type": "code",
   "execution_count": null,
   "id": "a290c2fd",
   "metadata": {
    "ExecuteTime": {
     "end_time": "2021-10-14T16:25:56.018571Z",
     "start_time": "2021-10-14T16:25:35.820661Z"
    },
    "solution2": "hidden"
   },
   "outputs": [],
   "source": [
    "netAmount = 0\n",
    "while True:\n",
    "    s = input()\n",
    "    if not s:\n",
    "        break\n",
    "    values = s.split(\" \")\n",
    "    operation = values[0]\n",
    "    amount = int(values[1])\n",
    "    if operation==\"D\":\n",
    "        netAmount+=amount\n",
    "    elif operation==\"W\":\n",
    "        netAmount-=amount\n",
    "    else:\n",
    "        pass\n",
    "print(netAmount)"
   ]
  },
  {
   "cell_type": "markdown",
   "id": "0b5291fc",
   "metadata": {
    "solution2": "hidden",
    "solution2_first": true
   },
   "source": [
    "#### Exercice 18. (niv.3)\n",
    "Un site web demande aux utilisateurs de saisir un nom d'utilisateur et un mot de passe pour s'enregistrer. Écrire un programme pour vérifier la validité du mot de passe saisi par les utilisateurs.\n",
    "Voici les critères pour vérifier le mot de passe :\n",
    " \n",
    "   1. Au moins une lettre entre [a-z].\n",
    "   2. Au moins un chiffre entre [0-9].\n",
    "   1. Au moins une lettre entre [A-Z].\n",
    "   3. Au moins un caractère de  [$#@].\n",
    "   4. Longueur minimale du mot de passe de transaction : 6\n",
    "   5. Longueur maximale du mot de passe de la transaction : 12\n",
    "\n",
    "Votre programme doit accepter une séquence de mots de passe séparés par des virgules et les vérifier en fonction des critères ci-dessus. Les mots de passe qui correspondent aux critères doivent être imprimés, chacun étant séparé par une virgule.\n",
    "\n",
    "Tester les mots de passe suivant : ABd1234@1,a F1#,2w3E*,2We3345\n",
    "\n",
    "Résultat attendu : ABd1234@1"
   ]
  },
  {
   "cell_type": "code",
   "execution_count": null,
   "id": "00341817",
   "metadata": {
    "ExecuteTime": {
     "end_time": "2021-10-14T16:32:15.645979Z",
     "start_time": "2021-10-14T16:32:09.898224Z"
    },
    "solution2": "hidden"
   },
   "outputs": [],
   "source": [
    "import re\n",
    "value = []\n",
    "items=[x for x in input().split(',')]\n",
    "for p in items:\n",
    "    if len(p)<6 or len(p)>12:\n",
    "        continue\n",
    "    else:\n",
    "        pass\n",
    "    if not re.search(\"[a-z]\",p):\n",
    "        continue\n",
    "    elif not re.search(\"[0-9]\",p):\n",
    "        continue\n",
    "    elif not re.search(\"[A-Z]\",p):\n",
    "        continue\n",
    "    elif not re.search(\"[$#@]\",p):\n",
    "        continue\n",
    "    elif re.search(\"\\s\",p):\n",
    "        continue\n",
    "    else:\n",
    "        pass\n",
    "    value.append(p)\n",
    "print(\",\".join(value))"
   ]
  },
  {
   "cell_type": "markdown",
   "id": "127cefdf",
   "metadata": {
    "solution2": "hidden",
    "solution2_first": true
   },
   "source": [
    "#### Exercice 19. (niv.3)\n",
    "\n",
    "Écrire un programme pour trier les tuples (nom, âge, taille) par ordre croissant où le nom est une chaîne de caractères, l'âge et la taille sont des nombres. Les tuples sont entrés par la console. Les critères de tri sont les suivants\n",
    "\n",
    "    1 : Trier en fonction du nom ;\n",
    "    2 : Puis trier en fonction de l'âge ;\n",
    "    3 : Puis trier en fonction du score.\n",
    "\n",
    "La priorité est la suivante : nom > âge > score.\n",
    "\n",
    "Si les tuples suivants sont donnés en entrée du programme :\n",
    "   - Tom,19,80\n",
    "   - Jean,20,90\n",
    "   - Jony,17,91\n",
    "   - Jony,17,93\n",
    "   - Json,21,85\n",
    "\n",
    "La sortie du programme devrait être :\n",
    "\n",
    "[('Jean', '20', '90'), ('Jony', '17', '91'), ('Jony', '17', '93'), ('Json', '21', '85'), ('Tom', '19', '80')]"
   ]
  },
  {
   "cell_type": "code",
   "execution_count": null,
   "id": "5ee2a89c",
   "metadata": {
    "ExecuteTime": {
     "end_time": "2021-10-14T16:47:08.368116Z",
     "start_time": "2021-10-14T16:46:35.327996Z"
    },
    "solution2": "hidden"
   },
   "outputs": [],
   "source": [
    "from operator import itemgetter, attrgetter\n",
    "\n",
    "l = []\n",
    "while True:\n",
    "    s = input()\n",
    "    if not s:\n",
    "        break\n",
    "    l.append(tuple(s.split(\",\")))\n",
    "\n",
    "print(sorted(l, key=itemgetter(0,1,2)))"
   ]
  },
  {
   "cell_type": "markdown",
   "id": "25ce8433",
   "metadata": {
    "solution2": "hidden",
    "solution2_first": true
   },
   "source": [
    "#### Exercice 20. (niv.3)\n",
    "\n",
    "Définir une classe avec un générateur qui peut itérer les nombres divisibles par $7$ entre une plage donnée de $0$ et $n$."
   ]
  },
  {
   "cell_type": "code",
   "execution_count": null,
   "id": "fba31016",
   "metadata": {
    "ExecuteTime": {
     "end_time": "2021-10-14T16:57:15.187008Z",
     "start_time": "2021-10-14T16:57:15.182011Z"
    },
    "solution2": "hidden"
   },
   "outputs": [],
   "source": [
    "def putNumbers(n):\n",
    "    i = 0\n",
    "    while i<n:\n",
    "        j=i\n",
    "        i=i+1\n",
    "        if j%7==0:\n",
    "            yield j \n",
    "\n",
    "for i in putNumbers(100):\n",
    "    print(i)                        "
   ]
  }
 ],
 "metadata": {
  "author": "me",
  "hide_input": false,
  "kernelspec": {
   "display_name": "Python 3 (ipykernel)",
   "language": "python",
   "name": "python3"
  },
  "language_info": {
   "codemirror_mode": {
    "name": "ipython",
    "version": 3
   },
   "file_extension": ".py",
   "mimetype": "text/x-python",
   "name": "python",
   "nbconvert_exporter": "python",
   "pygments_lexer": "ipython3",
   "version": "3.8.11"
  },
  "latex_envs": {
   "LaTeX_envs_menu_present": true,
   "autoclose": false,
   "autocomplete": true,
   "bibliofile": "biblio.bib",
   "cite_by": "apalike",
   "current_citInitial": 1,
   "eqLabelWithNumbers": true,
   "eqNumInitial": 1,
   "hotkeys": {
    "equation": "Ctrl-E",
    "itemize": "Ctrl-I"
   },
   "labels_anchors": false,
   "latex_user_defs": false,
   "report_style_numbering": false,
   "user_envs_cfg": false
  },
  "nbTranslate": {
   "displayLangs": [
    "*"
   ],
   "hotkey": "alt-t",
   "langInMainMenu": true,
   "sourceLang": "en",
   "targetLang": "fr",
   "useGoogleTranslate": true
  },
  "toc": {
   "base_numbering": 1,
   "nav_menu": {},
   "number_sections": true,
   "sideBar": true,
   "skip_h1_title": false,
   "title_cell": "Table of Contents",
   "title_sidebar": "Contents",
   "toc_cell": false,
   "toc_position": {},
   "toc_section_display": true,
   "toc_window_display": false
  },
  "varInspector": {
   "cols": {
    "lenName": 16,
    "lenType": 16,
    "lenVar": 40
   },
   "kernels_config": {
    "python": {
     "delete_cmd_postfix": "",
     "delete_cmd_prefix": "del ",
     "library": "var_list.py",
     "varRefreshCmd": "print(var_dic_list())"
    },
    "r": {
     "delete_cmd_postfix": ") ",
     "delete_cmd_prefix": "rm(",
     "library": "var_list.r",
     "varRefreshCmd": "cat(var_dic_list()) "
    }
   },
   "types_to_exclude": [
    "module",
    "function",
    "builtin_function_or_method",
    "instance",
    "_Feature"
   ],
   "window_display": false
  },
  "widgets": {
   "application/vnd.jupyter.widget-state+json": {
    "state": {},
    "version_major": 2,
    "version_minor": 0
   }
  }
 },
 "nbformat": 4,
 "nbformat_minor": 5
}
